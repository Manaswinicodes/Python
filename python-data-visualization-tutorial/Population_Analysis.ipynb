{
 "cells": [
  {
   "cell_type": "markdown",
   "metadata": {},
   "source": [
    "# 📊 World Population Data Visualization Tutorial\n",
    "\n",
    "**Complete analysis using Matplotlib & Pandas**\n",
    "\n",
    "This notebook demonstrates comprehensive data visualization techniques following professional data science practices."
   ]
  },
  {
   "cell_type": "markdown",
   "metadata": {},
   "source": [
    "## 1. Import Libraries and Setup"
   ]
  },
  {
   "cell_type": "code",
   "execution_count": null,
   "metadata": {},
   "outputs": [],
   "source": [
    "import pandas as pd\nimport matplotlib.pyplot as plt\nimport numpy as np\nimport seaborn as sns\nfrom datetime import datetime\nimport warnings\nwarnings.filterwarnings('ignore')\n\n# Set style for better looking plots\nplt.style.use('seaborn-v0_8')\nsns.set_palette(\"husl\")\n\n# Configure matplotlib for notebook\n%matplotlib inline\nplt.rcParams['figure.figsize'] = (12, 8)\nplt.rcParams['font.size'] = 11\n\nprint(\"🌍 World Population Data Visualization Tutorial\")\nprint(\"Libraries loaded successfully!\")"
   ]
  },
  {
   "cell_type": "markdown",
   "metadata": {},
   "source": [
    "## 2. Data Generation and Exploration"
   ]
  },
  {
   "cell_type": "code",
   "execution_count": null,
   "metadata": {},
   "outputs": [],
   "source": [
    "# [Insert the data generation function from the main script here]\n# This cell would contain the create_world_population_data() function\n\n# Generate the dataset\ndf = create_world_population_data()\nprint(f\"Dataset created: {len(df)} records across {df['Country'].nunique()} countries\")\nprint(f\"Time period: {df['Year'].min()} - {df['Year'].max()}\")\n\n# Display first few rows\ndf.head()"
   ]
  },
  {
   "cell_type": "markdown",
   "metadata": {},
   "source": [
    "## 3. Line Graph - Population Growth Over Time"
   ]
  },
  {
   "cell_type": "code",
   "execution_count": null,
   "metadata": {},
   "outputs": [],
   "source": [
    "# [Line graph code from main script]\nprint(\"📈 Creating line graph for population growth trends...\")\n\n# Get top 5 most populous countries and plot their growth\ntop_countries = df[df['Year'] == 2022].nlargest(5, 'Population')['Country'].tolist()\n\nplt.figure(figsize=(14, 8))\nfor country in top_countries:\n    country_data = df[df['Country'] == country].sort_values('Year')\n    plt.plot(country_data['Year'], country_data['Population'], \n             marker='o', linewidth=2.5, markersize=4, label=country)\n\nplt.title('Population Growth Over Time - Top 5 Countries', fontsize=16, fontweight='bold')\nplt.xlabel('Year', fontsize=12, fontweight='bold')\nplt.ylabel('Population (Millions)', fontsize=12, fontweight='bold')\nplt.legend(fontsize=11)\nplt.grid(True, alpha=0.3)\nplt.show()"
   ]
  },
  {
   "cell_type": "markdown",
   "metadata": {},
   "source": [
    "## 4. Histogram - Population Distribution"
   ]
  },
  {
   "cell_type": "code",
   "execution_count": null,
   "metadata": {},
   "outputs": [],
   "source": [
    "# [Histogram code from main script]\nprint(\"📊 Creating histogram for population distribution...\")\n\npop_2022 = df[df['Year'] == 2022]['Population'].values\n\nplt.figure(figsize=(12, 6))\nplt.hist(pop_2022, bins=15, color='skyblue', alpha=0.7, edgecolor='black')\nplt.title('Distribution of Country Populations (2022)', fontsize=16, fontweight='bold')\nplt.xlabel('Population (Millions)', fontsize=12, fontweight='bold')\nplt.ylabel('Number of Countries', fontsize=12, fontweight='bold')\nplt.grid(True, alpha=0.3, axis='y')\nplt.show()\n\nprint(f\"Mean population: {np.mean(pop_2022):.1f} million\")\nprint(f\"Median population: {np.median(pop_2022):.1f} million\")"
   ]
  },
  {
   "cell_type": "markdown",
   "metadata": {},
   "source": [
    "## 5. Pie Charts - Categorical Analysis"
   ]
  },
  {
   "cell_type": "code",
   "execution_count": null,
   "metadata": {},
   "outputs": [],
   "source": [
    "# [Pie chart code from main script]\nprint(\"🥧 Creating pie charts for categorical analysis...\")\n\n# Pie Chart 1: Population by Continent\ncontinent_pop = df[df['Year'] == 2022].groupby('Continent')['Population'].sum().sort_values(ascending=False)\n\nfig, (ax1, ax2) = plt.subplots(1, 2, figsize=(16, 6))\n\n# First pie chart\ncolors1 = ['#FF9999', '#66B2FF', '#99FF99', '#FFCC99', '#FF99CC']\nax1.pie(continent_pop.values, labels=continent_pop.index, autopct='%1.1f%%', \n        startangle=90, colors=colors1)\nax1.set_title('Population by Continent (2022)', fontweight='bold')\n\n# Second pie chart (growth rate categories would go here)\n# [Growth rate categorization code]\n\nplt.tight_layout()\nplt.show()"
   ]
  },
  {
   "cell_type": "markdown",
   "metadata": {},
   "source": [
    "## 6. Box Plot - Statistical Comparison"
   ]
  },
  {
   "cell_type": "code",
   "execution_count": null,
   "metadata": {},
   "outputs": [],
   "source": [
    "# [Box plot code from main script]\nprint(\"📦 Creating box plot for statistical comparison...\")\n\n# Calculate growth rates and create box plot\n# [Growth rate calculation and box plot visualization code]"
   ]
  },
  {
   "cell_type": "markdown",
   "metadata": {},
   "source": [
    "## 7. Advanced Dashboard"
   ]
  },
  {
   "cell_type": "code",
   "execution_count": null,
   "metadata": {},
   "outputs": [],
   "source": [
    "# [Advanced visualization code from main script]\nprint(\"🎯 Creating advanced multi-panel dashboard...\")\n\n# Create 2x2 subplot dashboard\nfig, ((ax1, ax2), (ax3, ax4)) = plt.subplots(2, 2, figsize=(16, 12))\n\n# [Each subplot code would go here]\n\nplt.tight_layout()\nplt.show()"
   ]
  },
  {
   "cell_type": "markdown",
   "metadata": {},
   "source": [
    "## 8. Summary and Insights"
   ]
  },
  {
   "cell_type": "code",
   "execution_count": null,
   "metadata": {},
   "outputs": [],
   "source": [
    "# Final summary statistics and insights\nprint(\"📋 FINAL INSIGHTS\")\nprint(\"=\" * 30)\n\ntotal_pop_2022 = df[df['Year'] == 2022]['Population'].sum()\ntotal_pop_1960 = df[df['Year'] == 1960]['Population'].sum()\noverall_growth = ((total_pop_2022 / total_pop_1960) ** (1/62) - 1) * 100\n\nprint(f\"Total population growth (1960-2022): {overall_growth:.2f}% annually\")\nprint(f\"Current total population: {total_pop_2022:.0f} million\")\n\n# Top countries summary\ntop_5 = df[df['Year'] == 2022].nlargest(5, 'Population')\nprint(\"\\nTop 5 Most Populous Countries:\")\nfor i, (_, row) in enumerate(top_5.iterrows(), 1):\n    print(f\"{i}. {row['Country']}: {row['Population']:.0f}M ({row['Continent']})\")"
   ]
  }
 ],
 "metadata": {
  "kernelspec": {
   "display_name": "Python 3",
   "language": "python",
   "name": "python3"
  },
  "language_info": {
   "codemirror_mode": {
    "name": "ipython",
    "version": 3
   },
   "file_extension": ".py",
   "name": "python",
   "nbconvert_exporter": "python",
   "pygments_lexer": "ipython3",
   "version": "3.8.0"
  }
 },
 "nbformat": 4,
 "nbformat_minor": 4
}
